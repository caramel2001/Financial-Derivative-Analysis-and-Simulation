{
 "cells": [
  {
   "cell_type": "markdown",
   "metadata": {},
   "source": [
    "## MH4518 Group Project\n",
    "\n",
    "Product: https://derivative.credit-suisse.com/ch/ch/en/detail/drop-back-certificate-s-p-500/CH1199361879/119936187\n"
   ]
  },
  {
   "cell_type": "markdown",
   "metadata": {},
   "source": [
    "### 1. Initial Set-up\n",
    "\n",
    "<ol>\n",
    "<li> Set directories\n",
    "<li> Install dependencies\n",
    "<li> Import libraries\n",
    "<li> Suppress Warnings (Optional)\n",
    "</ol>\n",
    "\n",
    "NOTE: Ensure you are using the correct kernel to run the Jupyter Notebook with the correctly set root driectory."
   ]
  },
  {
   "cell_type": "code",
   "execution_count": 1,
   "metadata": {},
   "outputs": [],
   "source": [
    "import os, sys\n",
    "\n",
    "# Set the root directory accordingly\n",
    "ROOT_DIR = \"D:\\Coding\\MH4518\"\n",
    "os.chdir(ROOT_DIR)\n",
    "#sys.path.append(ROOT_DIR)\n",
    "\n",
    "# These directories are set relative to root\n",
    "DATA_DIR = os.path.join(ROOT_DIR, \"data\")\n",
    "SAVE_DIR = os.path.join(ROOT_DIR, \"simulations\")"
   ]
  },
  {
   "cell_type": "code",
   "execution_count": 2,
   "metadata": {},
   "outputs": [],
   "source": [
    "# Install additional libraries using pip\n",
    "#! pip install -r requirements.txt\n",
    "\n",
    "# Or if you have Conda installed (reccommended)\n",
    "# conda env create -f environment.yml"
   ]
  },
  {
   "cell_type": "code",
   "execution_count": 3,
   "metadata": {},
   "outputs": [],
   "source": [
    "import math\n",
    "import numpy as np\n",
    "import pandas as pd\n",
    "import matplotlib.pyplot as plt\n",
    "import pandas_market_calendars as mcal\n",
    "\n",
    "from numba import jit, njit\n",
    "from scipy.optimize import minimize\n",
    "from nelson_siegel_svensson.calibrate import calibrate_ns_ols\n",
    "from sklearn.metrics import mean_absolute_error,mean_squared_error"
   ]
  },
  {
   "cell_type": "code",
   "execution_count": 4,
   "metadata": {},
   "outputs": [],
   "source": [
    "# OPTIONAL: Suppresing the deprecation notices while using numba and matplotlib (reccommended)\n",
    "import warnings\n",
    "from numba.core.errors import NumbaDeprecationWarning, NumbaPendingDeprecationWarning\n",
    "\n",
    "warnings.filterwarnings('ignore', module = \"matplotlib\\..*\" )\n",
    "warnings.filterwarnings('ignore', category=NumbaDeprecationWarning)\n",
    "warnings.filterwarnings('ignore', category=NumbaPendingDeprecationWarning)"
   ]
  },
  {
   "cell_type": "markdown",
   "metadata": {},
   "source": [
    "### 2. Loading Data\n",
    "\n",
    "The asset and product prices as well as the interest and dividend rates were collected and preprocessed using the notebook present in the `/data` directory.\n",
    "\n",
    "<ol>\n",
    "<li> daily_interest_rates.csv\n",
    "<li> asset_prices_processed.csv\n",
    "<li> product_prices_processed.csv\n",
    "<li> SPY_quarterly_dividend_rates.csv\n",
    "</ol>\n",
    "<br>\n",
    "\n",
    "However for our simulations we will only focus on the following time period,\n",
    "\n",
    "<li> Start date: 09-08-2022\n",
    "<li> End date: 09-11-2023"
   ]
  },
  {
   "cell_type": "code",
   "execution_count": 55,
   "metadata": {},
   "outputs": [],
   "source": [
    "# Load asset prices\n",
    "asset_prices = pd.read_csv(os.path.join(DATA_DIR, \"asset_prices_processed.csv\"))\n",
    "asset_prices[\"date\"] = pd.to_datetime(asset_prices[\"date\"])\n",
    "asset_prices = asset_prices.set_index(\"date\")\n",
    "\n",
    "# Load product prices\n",
    "product_prices = pd.read_csv(os.path.join(DATA_DIR, \"product_prices_processed.csv\"))\n",
    "product_prices[\"date\"] = pd.to_datetime(product_prices[\"date\"])\n",
    "product_prices = product_prices.set_index(\"date\")\n",
    "\n",
    "# Load daily interest rates\n",
    "interest_rates = pd.read_csv(os.path.join(DATA_DIR, \"daily_interest_rates.csv\"))\n",
    "interest_rates[\"date\"] = pd.to_datetime(interest_rates[\"date\"])\n",
    "\n",
    "# Separate the 1 year and 2 year interest rate\n",
    "interest_rate_1_year = interest_rates[[\"date\", \"1 Yr\"]]\n",
    "interest_rate_2_year = interest_rates[[\"date\", \"2 Yr\"]]\n",
    "interest_rates = interest_rates.set_index(\"date\")\n",
    "\n",
    "# Load quarterly dividend rates\n",
    "dividend_rates = pd.read_csv(os.path.join(DATA_DIR, \"SPY_quarterly_dividend_rates.csv\"))\n",
    "dividend_rates[\"date\"] = pd.to_datetime(dividend_rates[\"date\"])\n",
    "dividend_rates = dividend_rates.set_index(\"date\")"
   ]
  },
  {
   "cell_type": "code",
   "execution_count": 56,
   "metadata": {},
   "outputs": [
    {
     "data": {
      "text/html": [
       "<div>\n",
       "<style scoped>\n",
       "    .dataframe tbody tr th:only-of-type {\n",
       "        vertical-align: middle;\n",
       "    }\n",
       "\n",
       "    .dataframe tbody tr th {\n",
       "        vertical-align: top;\n",
       "    }\n",
       "\n",
       "    .dataframe thead th {\n",
       "        text-align: right;\n",
       "    }\n",
       "</style>\n",
       "<table border=\"1\" class=\"dataframe\">\n",
       "  <thead>\n",
       "    <tr style=\"text-align: right;\">\n",
       "      <th></th>\n",
       "      <th>date</th>\n",
       "      <th>1 Yr</th>\n",
       "    </tr>\n",
       "  </thead>\n",
       "  <tbody>\n",
       "    <tr>\n",
       "      <th>0</th>\n",
       "      <td>2022-07-19</td>\n",
       "      <td>3.18</td>\n",
       "    </tr>\n",
       "    <tr>\n",
       "      <th>1</th>\n",
       "      <td>2022-07-20</td>\n",
       "      <td>3.18</td>\n",
       "    </tr>\n",
       "    <tr>\n",
       "      <th>2</th>\n",
       "      <td>2022-07-21</td>\n",
       "      <td>3.11</td>\n",
       "    </tr>\n",
       "    <tr>\n",
       "      <th>3</th>\n",
       "      <td>2022-07-22</td>\n",
       "      <td>3.01</td>\n",
       "    </tr>\n",
       "    <tr>\n",
       "      <th>4</th>\n",
       "      <td>2022-07-25</td>\n",
       "      <td>3.07</td>\n",
       "    </tr>\n",
       "    <tr>\n",
       "      <th>...</th>\n",
       "      <td>...</td>\n",
       "      <td>...</td>\n",
       "    </tr>\n",
       "    <tr>\n",
       "      <th>325</th>\n",
       "      <td>2023-11-03</td>\n",
       "      <td>5.29</td>\n",
       "    </tr>\n",
       "    <tr>\n",
       "      <th>326</th>\n",
       "      <td>2023-11-06</td>\n",
       "      <td>5.33</td>\n",
       "    </tr>\n",
       "    <tr>\n",
       "      <th>327</th>\n",
       "      <td>2023-11-07</td>\n",
       "      <td>5.33</td>\n",
       "    </tr>\n",
       "    <tr>\n",
       "      <th>328</th>\n",
       "      <td>2023-11-08</td>\n",
       "      <td>5.34</td>\n",
       "    </tr>\n",
       "    <tr>\n",
       "      <th>329</th>\n",
       "      <td>2023-11-09</td>\n",
       "      <td>5.39</td>\n",
       "    </tr>\n",
       "  </tbody>\n",
       "</table>\n",
       "<p>330 rows × 2 columns</p>\n",
       "</div>"
      ],
      "text/plain": [
       "          date  1 Yr\n",
       "0   2022-07-19  3.18\n",
       "1   2022-07-20  3.18\n",
       "2   2022-07-21  3.11\n",
       "3   2022-07-22  3.01\n",
       "4   2022-07-25  3.07\n",
       "..         ...   ...\n",
       "325 2023-11-03  5.29\n",
       "326 2023-11-06  5.33\n",
       "327 2023-11-07  5.33\n",
       "328 2023-11-08  5.34\n",
       "329 2023-11-09  5.39\n",
       "\n",
       "[330 rows x 2 columns]"
      ]
     },
     "execution_count": 56,
     "metadata": {},
     "output_type": "execute_result"
    }
   ],
   "source": [
    "# Visualizing the dividend rates (for example)\n",
    "interest_rate_1_year"
   ]
  },
  {
   "cell_type": "markdown",
   "metadata": {},
   "source": [
    "### 3. Payoff Function"
   ]
  },
  {
   "cell_type": "code",
   "execution_count": 7,
   "metadata": {},
   "outputs": [],
   "source": [
    "def find_trigger_price(S_path, trigger):\n",
    "    '''\n",
    "    Returns the price that triggered the event, if it exists, else None.\n",
    "    '''\n",
    "    # Return the first price that triggers the event\n",
    "    for price in S_path:\n",
    "        if price <= trigger:\n",
    "            return price\n",
    "        \n",
    "    return None\n",
    "\n",
    "\n",
    "def calculate_payoff(S_path, Y_0 = 1000, rate = 0.0985, years = 3):\n",
    "    '''\n",
    "    Computes the payoff of a simulated path.\n",
    "    '''\n",
    "    S_0 = 3790.38   # From factsheet\n",
    "    S_t1 = find_trigger_price(S_path, trigger = 3411.3420)   # 0.90 * S_0\n",
    "    S_t2 = find_trigger_price(S_path, trigger = 3221.8230)   # 0.85 * S_0\n",
    "    S_t3 = find_trigger_price(S_path, trigger = 3032.3040)   # 0.80 * S_0\n",
    "    S_T = S_path[-1]\n",
    "\n",
    "    # Edge Case\n",
    "    if(S_t3 == 0 or S_t2 == 0 or S_t1 == 0):\n",
    "        return 0\n",
    "\n",
    "    # 1. Fixed returns independent of trigger events\n",
    "    Y_T = (0.55*Y_0) * (S_T/S_0)\n",
    "\n",
    "    # 2. Adjusted returns after trigger events\n",
    "    if S_t3 is not None:\n",
    "        multiplier = (S_T/S_t1 + S_T/S_t2 + S_T/S_t3)\n",
    "    elif S_t2 is not None:\n",
    "        multiplier = (S_T/S_t1 + S_T/S_t2)\n",
    "    elif S_t1 is not None:\n",
    "        multiplier = (S_T/S_t1)\n",
    "    else:\n",
    "        multiplier = 0.0\n",
    "    Y_T += (0.15*Y_0) * multiplier\n",
    "\n",
    "    # 3. Daily accrued interest of 9.85% p.a.\n",
    "    if S_t3 is not None:\n",
    "        principal = 0.0\n",
    "    elif S_t2 is not None:\n",
    "        principal = (0.15*Y_0)\n",
    "    elif S_t1 is not None:\n",
    "        principal = (0.30*Y_0)\n",
    "    else:\n",
    "        principal = (0.45*Y_0)\n",
    "    Y_T += principal * (1 + rate * years)\n",
    "    \n",
    "    assert Y_T >= 0.0   # Sanity Check\n",
    "    return Y_T\n",
    "\n",
    "\n",
    "def calculate_payoff_without_triggers(S_path, Y_0 = 1000, rate = 0.0985, years = 3):\n",
    "    '''\n",
    "    Computes the payoff of a simulated path without the trigger events (barriers).\n",
    "    '''\n",
    "    S_0 = 3790.38   # From factsheet\n",
    "    S_T = S_path[-1]\n",
    "\n",
    "    # Payoff formula is fixed\n",
    "    Y_T = (0.55*Y_0) * (S_T/S_0) + (0.45*Y_0) * (1 + rate * years)\n",
    "    \n",
    "    assert Y_T >= 0.0   # Sanity Check\n",
    "    return Y_T"
   ]
  },
  {
   "cell_type": "code",
   "execution_count": 8,
   "metadata": {},
   "outputs": [
    {
     "name": "stdout",
     "output_type": "stream",
     "text": [
      "S_T = 0.0 \t   Performance of Asset = -100.00% \t Performance of Certificate = -100.00% \t Payoff = 0.00\n",
      "S_T = 2653.27 \t   Performance of Asset = -30.00% \t Performance of Certificate = -23.91% \t Payoff = 760.89\n",
      "S_T = 3032.3 \t   Performance of Asset = -20.00% \t Performance of Certificate = -13.04% \t Payoff = 869.59\n",
      "S_T = 3411.34 \t   Performance of Asset = -10.00% \t Performance of Certificate = -2.17% \t Payoff = 978.29\n",
      "S_T = 3790.38 \t   Performance of Asset = 0.00% \t Performance of Certificate = 8.70% \t Payoff = 1086.98\n",
      "S_T = 4169.42 \t   Performance of Asset = 10.00% \t Performance of Certificate = 19.57% \t Payoff = 1195.68\n",
      "S_T = 4548.46 \t   Performance of Asset = 20.00% \t Performance of Certificate = 30.44% \t Payoff = 1304.38\n",
      "S_T = 4927.49 \t   Performance of Asset = 30.00% \t Performance of Certificate = 41.31% \t Payoff = 1413.08\n"
     ]
    }
   ],
   "source": [
    "# OPTIONAL: Testing the payoff function with values in the factsheet (Flawed, all triggers are hit)\n",
    "S_0 = 3790.38\n",
    "S_path_partial = [3790.41, 3800.15, 3373.44, 4000.00, 3183.92, 2994.40]\n",
    "S_T = [0.0, 2653.27, 3032.3, 3411.34, 3790.38, 4169.42, 4548.46, 4927.49]\n",
    "\n",
    "for final_closing_price in S_T:\n",
    "    S_path = S_path_partial + [final_closing_price]\n",
    "    payoff = calculate_payoff(S_path)\n",
    "\n",
    "    print(f\"S_T = {final_closing_price} \\t   Performance of Asset = {100*(final_closing_price - S_0)/S_0:.2f}% \\t Performance of Certificate = {(payoff - 1000)/10:.2f}% \\t Payoff = {payoff:.2f}\")"
   ]
  },
  {
   "cell_type": "markdown",
   "metadata": {},
   "source": [
    "### 4. Geometric Brownian Motion\n",
    "\n",
    "Implmentation of the Black-Scholes model for pricing. THe form derived from Ito's lemma was used. This will be our baseline model."
   ]
  },
  {
   "cell_type": "code",
   "execution_count": 9,
   "metadata": {},
   "outputs": [],
   "source": [
    "@njit\n",
    "def simulate_GBM(num_sim, S_0, r, sigma, delta_t, T, Z):  # NOTE: For exact GMB simply set r = mu while calling\n",
    "  \"\"\"\n",
    "  r is the daily interest rate\n",
    "  sigma is daily volatility\n",
    "  T is actually tau = T - t (in years)\n",
    "  delta_t is 1 / 252\n",
    "  Z is the random variates sampled from N(0, 1)\n",
    "  \"\"\"\n",
    "  # Initializations\n",
    "  v = r - 0.5*(sigma**2)\n",
    "  num_periods = int(T/delta_t)\n",
    "  S_matrix = np.zeros(shape=(num_sim, num_periods + 1), dtype=np.float64)\n",
    "\n",
    "  # We are using the form derived by Ito's lemma \n",
    "  for i in range(num_sim):\n",
    "    S_matrix[i][0] = S_0\n",
    "    for j in range(1, num_periods + 1):\n",
    "      log_diff = v*delta_t + (sigma*np.sqrt(delta_t) * Z[i][j-1])\n",
    "      S_matrix[i][j] = S_matrix[i][j-1]*np.exp(log_diff)\n",
    "\n",
    "  return S_matrix"
   ]
  },
  {
   "cell_type": "markdown",
   "metadata": {},
   "source": [
    "### 5. Heston Model\n",
    "\n",
    "Implementation of the Cox-Ingersoll-Ross model for pricing."
   ]
  },
  {
   "cell_type": "code",
   "execution_count": 10,
   "metadata": {},
   "outputs": [],
   "source": [
    "@njit\n",
    "def simulate_Heston_var(num_sim, S_0, S_mu, S_Sigma, kappa, corr, delta_t, T, Z1, Z2):\n",
    "  num_periods = int(T/delta_t)\n",
    "  S_matrix = np.zeros(shape=(num_sim, num_periods + 1), dtype=np.float64)\n",
    " \n",
    "  for i in range(num_sim):\n",
    "    S_matrix[i][0] = S_0\n",
    "    for j in range(1, num_periods + 1):\n",
    "      prev = S_matrix[i][j-1]\n",
    "      S_matrix[i][j] = prev + (kappa*(S_mu-prev))*delta_t + np.sqrt(S_Sigma*prev*delta_t)*(corr*Z1[i][j-1]+np.sqrt(1-corr**2)*Z2[i][j-1])\n",
    "      if(S_matrix[i][j]<=0):\n",
    "        S_matrix[i][j] = S_mu\n",
    "      \n",
    "  return S_matrix"
   ]
  },
  {
   "cell_type": "code",
   "execution_count": 11,
   "metadata": {},
   "outputs": [],
   "source": [
    "@njit\n",
    "def simulate_Heston(num_sim, S_0, r, sigma, delta_t, T, Z):\n",
    "  num_periods = int(T/delta_t)\n",
    "  S_matrix = np.zeros(shape=(num_sim, num_periods + 1), dtype=np.float64)\n",
    "\n",
    "  for i in range(num_sim):\n",
    "    S_matrix[i][0] = S_0\n",
    "    for j in range(1, num_periods + 1):\n",
    "      v = r - 0.5*(sigma[i][j]**2)\n",
    "      log_diff = v*delta_t + (sigma[i][j]*np.sqrt(delta_t) * Z[i][j-1])\n",
    "      S_matrix[i][j] = S_matrix[i][j-1]*np.exp(log_diff)\n",
    "\n",
    "  return S_matrix"
   ]
  },
  {
   "cell_type": "markdown",
   "metadata": {},
   "source": [
    "### 6. Backtesting the Models\n",
    "\n",
    "We take 252 day long windows of data for each iteration.\n",
    "\n",
    "eg: The first window begins on 9th August, 2022 and ends on 8th August, 2023 and we price the product on 9th August."
   ]
  },
  {
   "cell_type": "markdown",
   "metadata": {},
   "source": [
    "#### 6.1 Parameters and Rolling Window"
   ]
  },
  {
   "cell_type": "code",
   "execution_count": 12,
   "metadata": {},
   "outputs": [
    {
     "name": "stdout",
     "output_type": "stream",
     "text": [
      "753\n"
     ]
    }
   ],
   "source": [
    "# Create a market calendar for date handling\n",
    "nyse = mcal.get_calendar('NYSE')\n",
    "product_lifetime = nyse.schedule(start_date='2022-07-14', end_date='2025-07-14')\n",
    "print(len(product_lifetime))"
   ]
  },
  {
   "cell_type": "code",
   "execution_count": 13,
   "metadata": {},
   "outputs": [],
   "source": [
    "# Parameters for each set of simulations\n",
    "num_sim = 10000    # Push to 1,000,000\n",
    "delta_t = 1/252\n",
    "num_periods = len(product_lifetime)\n",
    "T = num_periods/252\n",
    "# T is in years\n",
    "# delta t_is also in years"
   ]
  },
  {
   "cell_type": "code",
   "execution_count": 14,
   "metadata": {},
   "outputs": [
    {
     "name": "stdout",
     "output_type": "stream",
     "text": [
      "67 days\n",
      "Start Date: 2023-08-09 00:00:00; End date: 2023-11-09 00:00:00\n"
     ]
    }
   ],
   "source": [
    "# One set of simulations for each date in [start_date, end_date]\n",
    "window_size = 252\n",
    "start_date = pd.to_datetime(\"2023-08-09\")\n",
    "end_date = pd.to_datetime(\"2023-11-09\")\n",
    "\n",
    "simulation_dates = product_prices.index[(product_prices.index >= start_date) & (product_prices.index <= end_date)]\n",
    "print(f\"{len(simulation_dates)} days\")\n",
    "print(f\"Start Date: {simulation_dates[0]}; End date: {simulation_dates[-1]}\")"
   ]
  },
  {
   "cell_type": "code",
   "execution_count": 15,
   "metadata": {},
   "outputs": [
    {
     "name": "stdout",
     "output_type": "stream",
     "text": [
      "Asset not priced on 2023-09-04 00:00:00. Using data up till the previous date!\n",
      "Asset not priced on 2023-11-09 00:00:00. Using data up till the previous date!\n",
      "Collected data for 67 windows of size 252 each.\n"
     ]
    }
   ],
   "source": [
    "# We shall sample a window of size 252 from the historical data (EXCLUDING the current date)\n",
    "backtest_windows = []   # Prices only\n",
    "backtest_windows_with_dates = []\n",
    "previous_window_end_date = None\n",
    "\n",
    "for window_end_date in simulation_dates:\n",
    "    # For each date the product was prices, we need 252 points BEFORE this date\n",
    "    try:\n",
    "        window_start_index = asset_prices.index.get_loc(window_end_date) - window_size\n",
    "    except:\n",
    "        window_start_index = asset_prices.index.get_loc(previous_window_end_date) - window_size + 1\n",
    "        print(f\"Asset not priced on {window_end_date}. Using data up till the previous date!\")\n",
    "\n",
    "    assert window_start_index >= 0\n",
    "\n",
    "    # Slice the dataset according to the window\n",
    "    window_start_date = asset_prices.index[window_start_index]\n",
    "    window_asset_data = asset_prices[(asset_prices.index >= window_start_date) & (asset_prices.index < window_end_date)]\n",
    "\n",
    "    # Collect all the windows\n",
    "    assert len(window_asset_data) == window_size\n",
    "    backtest_windows_with_dates.append(window_asset_data)   # For validatiuon purposes\n",
    "    backtest_windows.append(np.array(window_asset_data[\"value\"]))\n",
    "    \n",
    "    # For handling edge cases in the try-except block\n",
    "    previous_window_end_date = window_end_date\n",
    "\n",
    "print(f\"Collected data for {len(backtest_windows)} windows of size {window_size} each.\")"
   ]
  },
  {
   "cell_type": "code",
   "execution_count": 16,
   "metadata": {},
   "outputs": [
    {
     "name": "stdout",
     "output_type": "stream",
     "text": [
      "Pricing asset on - \t\t2023-08-09 00:00:00.\n",
      "We have data till - \t2023-08-08 00:00:00.\n",
      "\n",
      "Pricing asset on - \t\t2023-08-10 00:00:00.\n",
      "We have data till - \t2023-08-09 00:00:00.\n",
      "\n",
      "Pricing asset on - \t\t2023-08-11 00:00:00.\n",
      "We have data till - \t2023-08-10 00:00:00.\n",
      "\n",
      "Pricing asset on - \t\t2023-08-14 00:00:00.\n",
      "We have data till - \t2023-08-11 00:00:00.\n",
      "\n",
      "Pricing asset on - \t\t2023-08-15 00:00:00.\n",
      "We have data till - \t2023-08-14 00:00:00.\n",
      "\n",
      "Pricing asset on - \t\t2023-08-16 00:00:00.\n",
      "We have data till - \t2023-08-15 00:00:00.\n",
      "\n",
      "Pricing asset on - \t\t2023-08-17 00:00:00.\n",
      "We have data till - \t2023-08-16 00:00:00.\n",
      "\n",
      "Pricing asset on - \t\t2023-08-18 00:00:00.\n",
      "We have data till - \t2023-08-17 00:00:00.\n",
      "\n",
      "Pricing asset on - \t\t2023-08-21 00:00:00.\n",
      "We have data till - \t2023-08-18 00:00:00.\n",
      "\n",
      "Pricing asset on - \t\t2023-08-22 00:00:00.\n",
      "We have data till - \t2023-08-21 00:00:00.\n",
      "\n",
      "Pricing asset on - \t\t2023-08-23 00:00:00.\n",
      "We have data till - \t2023-08-22 00:00:00.\n",
      "\n",
      "Pricing asset on - \t\t2023-08-24 00:00:00.\n",
      "We have data till - \t2023-08-23 00:00:00.\n",
      "\n",
      "Pricing asset on - \t\t2023-08-25 00:00:00.\n",
      "We have data till - \t2023-08-24 00:00:00.\n",
      "\n",
      "Pricing asset on - \t\t2023-08-28 00:00:00.\n",
      "We have data till - \t2023-08-25 00:00:00.\n",
      "\n",
      "Pricing asset on - \t\t2023-08-29 00:00:00.\n",
      "We have data till - \t2023-08-28 00:00:00.\n",
      "\n",
      "Pricing asset on - \t\t2023-08-30 00:00:00.\n",
      "We have data till - \t2023-08-29 00:00:00.\n",
      "\n",
      "Pricing asset on - \t\t2023-08-31 00:00:00.\n",
      "We have data till - \t2023-08-30 00:00:00.\n",
      "\n",
      "Pricing asset on - \t\t2023-09-01 00:00:00.\n",
      "We have data till - \t2023-08-31 00:00:00.\n",
      "\n",
      "Pricing asset on - \t\t2023-09-04 00:00:00.\n",
      "We have data till - \t2023-09-01 00:00:00.\n",
      "\n",
      "Pricing asset on - \t\t2023-09-05 00:00:00.\n",
      "We have data till - \t2023-09-01 00:00:00.\n",
      "\n",
      "Pricing asset on - \t\t2023-09-06 00:00:00.\n",
      "We have data till - \t2023-09-05 00:00:00.\n",
      "\n",
      "Pricing asset on - \t\t2023-09-07 00:00:00.\n",
      "We have data till - \t2023-09-06 00:00:00.\n",
      "\n",
      "Pricing asset on - \t\t2023-09-08 00:00:00.\n",
      "We have data till - \t2023-09-07 00:00:00.\n",
      "\n",
      "Pricing asset on - \t\t2023-09-11 00:00:00.\n",
      "We have data till - \t2023-09-08 00:00:00.\n",
      "\n",
      "Pricing asset on - \t\t2023-09-12 00:00:00.\n",
      "We have data till - \t2023-09-11 00:00:00.\n",
      "\n",
      "Pricing asset on - \t\t2023-09-13 00:00:00.\n",
      "We have data till - \t2023-09-12 00:00:00.\n",
      "\n",
      "Pricing asset on - \t\t2023-09-14 00:00:00.\n",
      "We have data till - \t2023-09-13 00:00:00.\n",
      "\n",
      "Pricing asset on - \t\t2023-09-15 00:00:00.\n",
      "We have data till - \t2023-09-14 00:00:00.\n",
      "\n",
      "Pricing asset on - \t\t2023-09-18 00:00:00.\n",
      "We have data till - \t2023-09-15 00:00:00.\n",
      "\n",
      "Pricing asset on - \t\t2023-09-19 00:00:00.\n",
      "We have data till - \t2023-09-18 00:00:00.\n",
      "\n",
      "Pricing asset on - \t\t2023-09-20 00:00:00.\n",
      "We have data till - \t2023-09-19 00:00:00.\n",
      "\n",
      "Pricing asset on - \t\t2023-09-21 00:00:00.\n",
      "We have data till - \t2023-09-20 00:00:00.\n",
      "\n",
      "Pricing asset on - \t\t2023-09-22 00:00:00.\n",
      "We have data till - \t2023-09-21 00:00:00.\n",
      "\n",
      "Pricing asset on - \t\t2023-09-25 00:00:00.\n",
      "We have data till - \t2023-09-22 00:00:00.\n",
      "\n",
      "Pricing asset on - \t\t2023-09-26 00:00:00.\n",
      "We have data till - \t2023-09-25 00:00:00.\n",
      "\n",
      "Pricing asset on - \t\t2023-09-27 00:00:00.\n",
      "We have data till - \t2023-09-26 00:00:00.\n",
      "\n",
      "Pricing asset on - \t\t2023-09-28 00:00:00.\n",
      "We have data till - \t2023-09-27 00:00:00.\n",
      "\n",
      "Pricing asset on - \t\t2023-09-29 00:00:00.\n",
      "We have data till - \t2023-09-28 00:00:00.\n",
      "\n",
      "Pricing asset on - \t\t2023-10-02 00:00:00.\n",
      "We have data till - \t2023-09-29 00:00:00.\n",
      "\n",
      "Pricing asset on - \t\t2023-10-03 00:00:00.\n",
      "We have data till - \t2023-10-02 00:00:00.\n",
      "\n",
      "Pricing asset on - \t\t2023-10-04 00:00:00.\n",
      "We have data till - \t2023-10-03 00:00:00.\n",
      "\n",
      "Pricing asset on - \t\t2023-10-05 00:00:00.\n",
      "We have data till - \t2023-10-04 00:00:00.\n",
      "\n",
      "Pricing asset on - \t\t2023-10-06 00:00:00.\n",
      "We have data till - \t2023-10-05 00:00:00.\n",
      "\n",
      "Pricing asset on - \t\t2023-10-09 00:00:00.\n",
      "We have data till - \t2023-10-06 00:00:00.\n",
      "\n",
      "Pricing asset on - \t\t2023-10-10 00:00:00.\n",
      "We have data till - \t2023-10-09 00:00:00.\n",
      "\n",
      "Pricing asset on - \t\t2023-10-11 00:00:00.\n",
      "We have data till - \t2023-10-10 00:00:00.\n",
      "\n",
      "Pricing asset on - \t\t2023-10-12 00:00:00.\n",
      "We have data till - \t2023-10-11 00:00:00.\n",
      "\n",
      "Pricing asset on - \t\t2023-10-13 00:00:00.\n",
      "We have data till - \t2023-10-12 00:00:00.\n",
      "\n",
      "Pricing asset on - \t\t2023-10-16 00:00:00.\n",
      "We have data till - \t2023-10-13 00:00:00.\n",
      "\n",
      "Pricing asset on - \t\t2023-10-17 00:00:00.\n",
      "We have data till - \t2023-10-16 00:00:00.\n",
      "\n",
      "Pricing asset on - \t\t2023-10-18 00:00:00.\n",
      "We have data till - \t2023-10-17 00:00:00.\n",
      "\n",
      "Pricing asset on - \t\t2023-10-19 00:00:00.\n",
      "We have data till - \t2023-10-18 00:00:00.\n",
      "\n",
      "Pricing asset on - \t\t2023-10-20 00:00:00.\n",
      "We have data till - \t2023-10-19 00:00:00.\n",
      "\n",
      "Pricing asset on - \t\t2023-10-23 00:00:00.\n",
      "We have data till - \t2023-10-20 00:00:00.\n",
      "\n",
      "Pricing asset on - \t\t2023-10-24 00:00:00.\n",
      "We have data till - \t2023-10-23 00:00:00.\n",
      "\n",
      "Pricing asset on - \t\t2023-10-25 00:00:00.\n",
      "We have data till - \t2023-10-24 00:00:00.\n",
      "\n",
      "Pricing asset on - \t\t2023-10-26 00:00:00.\n",
      "We have data till - \t2023-10-25 00:00:00.\n",
      "\n",
      "Pricing asset on - \t\t2023-10-27 00:00:00.\n",
      "We have data till - \t2023-10-26 00:00:00.\n",
      "\n",
      "Pricing asset on - \t\t2023-10-30 00:00:00.\n",
      "We have data till - \t2023-10-27 00:00:00.\n",
      "\n",
      "Pricing asset on - \t\t2023-10-31 00:00:00.\n",
      "We have data till - \t2023-10-30 00:00:00.\n",
      "\n",
      "Pricing asset on - \t\t2023-11-01 00:00:00.\n",
      "We have data till - \t2023-10-31 00:00:00.\n",
      "\n",
      "Pricing asset on - \t\t2023-11-02 00:00:00.\n",
      "We have data till - \t2023-11-01 00:00:00.\n",
      "\n",
      "Pricing asset on - \t\t2023-11-03 00:00:00.\n",
      "We have data till - \t2023-11-02 00:00:00.\n",
      "\n",
      "Pricing asset on - \t\t2023-11-06 00:00:00.\n",
      "We have data till - \t2023-11-03 00:00:00.\n",
      "\n",
      "Pricing asset on - \t\t2023-11-07 00:00:00.\n",
      "We have data till - \t2023-11-06 00:00:00.\n",
      "\n",
      "Pricing asset on - \t\t2023-11-08 00:00:00.\n",
      "We have data till - \t2023-11-07 00:00:00.\n",
      "\n",
      "Pricing asset on - \t\t2023-11-09 00:00:00.\n",
      "We have data till - \t2023-11-08 00:00:00.\n",
      "\n"
     ]
    }
   ],
   "source": [
    "# Validating the rolling window boundaries\n",
    "for x, y in zip(simulation_dates, backtest_windows_with_dates):\n",
    "    print(f\"Pricing asset on - \\t\\t{x}.\")\n",
    "    print(f\"We have data till - \\t{y.index[-1]}.\\n\")"
   ]
  },
  {
   "cell_type": "markdown",
   "metadata": {},
   "source": [
    "#### 6.2 Interpolating the Interest Rate Curves"
   ]
  },
  {
   "cell_type": "code",
   "execution_count": 39,
   "metadata": {},
   "outputs": [
    {
     "data": {
      "text/plain": [
       "(330, 12)"
      ]
     },
     "execution_count": 39,
     "metadata": {},
     "output_type": "execute_result"
    }
   ],
   "source": [
    "maturities = np.array([1/12, 2/12, 3/12, 4/12, 6/12, 1, 2, 3, 5, 7, 10, 20, 30])\n",
    "interest_rates.columns = maturities\n",
    "\n",
    "# The 4 month interest rate is a bit sparse\n",
    "interest_rates = interest_rates.dropna(how='any', axis=1)\n",
    "maturities = interest_rates.columns.to_numpy()\n",
    "interest_rates.shape"
   ]
  },
  {
   "cell_type": "code",
   "execution_count": 40,
   "metadata": {},
   "outputs": [
    {
     "name": "stdout",
     "output_type": "stream",
     "text": [
      "Rate not found for date 2023-09-04 00:00:00, using the rate from the previous date.\n",
      "Rate not found for date 2023-10-09 00:00:00, using the rate from the previous date.\n"
     ]
    }
   ],
   "source": [
    "curves = []\n",
    "for date in simulation_dates:\n",
    "    try:\n",
    "        interest_rate = interest_rates.loc[date].to_numpy()\n",
    "        curve_fit, status = calibrate_ns_ols(maturities, interest_rate)\n",
    "        curves.append(curve_fit)\n",
    "\n",
    "    except KeyError:\n",
    "        # Handle the case where the rate is not found\n",
    "        print(f\"Rate not found for date {date}, using the rate from the previous date.\")\n",
    "        previous_date = interest_rates.index[interest_rates.index <= date].max()\n",
    "        corrected_rate = interest_rates.loc[previous_date].to_numpy()\n",
    "        curve_fit, status = calibrate_ns_ols(maturities, corrected_rate)\n",
    "        curves.append(curve_fit)\n",
    "\n",
    "    except Exception as e:\n",
    "        print(f\"An error occurred for date {date}: {e}\")"
   ]
  },
  {
   "cell_type": "markdown",
   "metadata": {},
   "source": [
    "#### 6.3 Helper Functions"
   ]
  },
  {
   "cell_type": "code",
   "execution_count": 20,
   "metadata": {},
   "outputs": [],
   "source": [
    "def get_dividend_rate(date):\n",
    "    # We only collected the rates relavant for our timeframe\n",
    "    assert date > pd.to_datetime('2022-06-17')\n",
    "\n",
    "    # Find the relavant quarter and return the dividend rate\n",
    "    for quarter_date in dividend_rates.index:\n",
    "        if date >= quarter_date:\n",
    "            return dividend_rates.loc[quarter_date, 'dividends']\n",
    "\n",
    "    print(\"Returning last rate!\")\n",
    "    return dividend_rates.loc[quarter_date, 'dividend_rate']"
   ]
  },
  {
   "cell_type": "code",
   "execution_count": 22,
   "metadata": {},
   "outputs": [],
   "source": [
    "def loss(inp, variances, log_prices):\n",
    "    r, reversion, mean_var, sigma_var, rho = inp\n",
    "    sigma_var=sigma_var**(1/2)\n",
    "    term = 0.0\n",
    "    for i in range(1,len(variances)):\n",
    "        var = variances[i-1]\n",
    "        nextvar = variances[i]\n",
    "        term += -np.log(2*3.1415) - np.log(sigma_var) -np.log(var) - 1/2*np.log(1-rho**2) - (nextvar-1-r)**2/(2*var*(1-rho**2))+ rho*(nextvar-1-r)*(nextvar-var-reversion*mean_var+reversion*var)/(var*sigma_var*(1-rho**2) - (nextvar-var-reversion*mean_var+reversion*var)**2/(2*(sigma_var**2)*var*(1-rho**2)))\n",
    "    return term"
   ]
  },
  {
   "cell_type": "code",
   "execution_count": 23,
   "metadata": {},
   "outputs": [],
   "source": [
    "def get_stats(variances):\n",
    "  mu = np.mean(variances)\n",
    "  sigma = np.std(variances, ddof=1)\n",
    "  reversion_rate = 1\n",
    "  return mu, sigma, reversion_rate, variances[len(variances)-1]"
   ]
  },
  {
   "cell_type": "code",
   "execution_count": 57,
   "metadata": {},
   "outputs": [],
   "source": [
    "def get_lognormal_statistics(prices):\n",
    "  log_data = np.log(prices)\n",
    "  log_returns = log_data[1:] - log_data[:-1]\n",
    "  mu = np.mean(log_returns)\n",
    "  dev_2 = (log_returns-mu)**2\n",
    "  correlation = pd.Series(log_returns).corr(pd.Series(dev_2))\n",
    "  mean_sigma, sigma_sigma, reversion, var_inint = get_stats(dev_2)\n",
    "  res = minimize(lambda x: loss(x,log_returns, dev_2), (mu,reversion,mean_sigma,sigma_sigma, correlation)).x\n",
    "  return res, var_inint"
   ]
  },
  {
   "cell_type": "code",
   "execution_count": null,
   "metadata": {},
   "outputs": [],
   "source": [
    "# Generating a common random variable/common randomness matrix for GBM\n",
    "Z_matrix = np.random.normal(0, 1, size=(len(simulation_dates), num_sim, num_periods))"
   ]
  },
  {
   "cell_type": "code",
   "execution_count": 25,
   "metadata": {},
   "outputs": [],
   "source": [
    "# Generating a common random variable/common randomness matrix for Heston\n",
    "Hes_matrix = np.random.normal(0, 1, size=(len(simulation_dates), num_sim, num_periods))"
   ]
  },
  {
   "cell_type": "markdown",
   "metadata": {},
   "source": [
    "#### 6.4 Running the Simulations (aka The Exciting Part)"
   ]
  },
  {
   "cell_type": "markdown",
   "metadata": {},
   "source": [
    "#### 6.4.1 GBM with Dividends Adjustment\n",
    "\n",
    "This will be our baseline model."
   ]
  },
  {
   "cell_type": "code",
   "execution_count": 49,
   "metadata": {},
   "outputs": [],
   "source": [
    "# GBM with Dividends without Variance Reduction\n",
    "GBM_Div_expected_values = []\n",
    "\n",
    "for date, prices in zip(simulation_dates, backtest_windows):\n",
    "  # Convert date to index (so we can lookup prices and interest rate curves)\n",
    "  date_index = simulation_dates.get_loc(date)\n",
    "\n",
    "  # Estimate r\n",
    "  delta = len(product_lifetime[date:])\n",
    "  tau = delta / 252    # time diff in years\n",
    "  curve_fit = curves[date_index]\n",
    "  r_yearly = curve_fit(tau) / 100    # yearly (interpolated) interest rate\n",
    "\n",
    "  # Calulcate mu and sigma (we discard mu)\n",
    "  _, sigma = get_lognormal_statistics(prices, delta_t)    # sigma is daily variance\n",
    "\n",
    "  # IMPORTANT: Adjust the interest rate based on dividends\n",
    "  r_adjusted_yearly = r_yearly - get_dividend_rate(date) / 100\n",
    "  r_adjusted_daily = r_adjusted_yearly / 252\n",
    "\n",
    "  # Simulate prices, calculate payoff and expected value\n",
    "  simulated_prices = simulate_GBM(num_sim, prices[-1], r_adjusted_daily, sigma, delta_t, tau, Z=Z_matrix[date_index])\n",
    "  payoffs = np.exp(-r_adjusted_yearly*tau)*np.apply_along_axis(func1d=calculate_payoff, axis=1, arr=simulated_prices)\n",
    "  expected_value = np.mean(payoffs)\n",
    "  \n",
    "  GBM_Div_expected_values.append(expected_value)"
   ]
  },
  {
   "cell_type": "markdown",
   "metadata": {},
   "source": [
    "#### 6.4.2 Heston Model"
   ]
  },
  {
   "cell_type": "code",
   "execution_count": null,
   "metadata": {},
   "outputs": [],
   "source": [
    "Hes_expected_values = []\n",
    "\n",
    "for date, prices in zip(simulation_dates, backtest_windows):\n",
    "  \n",
    "  date_index = simulation_dates.get_loc(date)\n",
    "  delta = len(product_lifetime[date:])\n",
    "  tau = delta / 252 ### time diff in years\n",
    "  curve_fit = curves[date_index]\n",
    "  r = curve_fit(tau)/100 ### yearly interest\n",
    "  res, var_inint= get_lognormal_statistics(prices)  ### all daily indicators\n",
    "  mu, reversion, mean_sigma, sigma_sigma, correlation = res\n",
    "  eff_r = r #- get_div_rate(date)/100\n",
    "  print(mu, mean_sigma, sigma_sigma, reversion, var_inint, correlation)\n",
    "\n",
    "  variance = simulate_Heston_var(num_sim, var_inint, mean_sigma, sigma_sigma, reversion, correlation, delta_t, tau, Z1=Z_matrix[date_index],Z2=Hes_matrix[date_index])\n",
    "  simulated_prices = simulate_Heston(num_sim, prices[-1], eff_r/252, variance**(1/2), delta_t, tau, Z=Z_matrix[date_index])\n",
    "  \n",
    "  payoffs = np.exp(-eff_r*tau)*np.apply_along_axis(func1d=calculate_payoff, axis=1, arr=simulated_prices)\n",
    "  expected_value = np.mean(payoffs)\n",
    "  Hes_expected_values.append(expected_value)"
   ]
  },
  {
   "cell_type": "markdown",
   "metadata": {},
   "source": [
    "#### 6.5.1 Plotting the Results (aka The Moment of Truth)"
   ]
  },
  {
   "cell_type": "code",
   "execution_count": 59,
   "metadata": {},
   "outputs": [
    {
     "data": {
      "text/html": [
       "<div>\n",
       "<style scoped>\n",
       "    .dataframe tbody tr th:only-of-type {\n",
       "        vertical-align: middle;\n",
       "    }\n",
       "\n",
       "    .dataframe tbody tr th {\n",
       "        vertical-align: top;\n",
       "    }\n",
       "\n",
       "    .dataframe thead th {\n",
       "        text-align: right;\n",
       "    }\n",
       "</style>\n",
       "<table border=\"1\" class=\"dataframe\">\n",
       "  <thead>\n",
       "    <tr style=\"text-align: right;\">\n",
       "      <th></th>\n",
       "      <th>Actual</th>\n",
       "      <th>GBM_Div</th>\n",
       "      <th>CIR</th>\n",
       "    </tr>\n",
       "    <tr>\n",
       "      <th>date</th>\n",
       "      <th></th>\n",
       "      <th></th>\n",
       "      <th></th>\n",
       "    </tr>\n",
       "  </thead>\n",
       "  <tbody>\n",
       "    <tr>\n",
       "      <th>2023-08-09</th>\n",
       "      <td>1124.23</td>\n",
       "      <td>1136.852464</td>\n",
       "      <td>1136.166344</td>\n",
       "    </tr>\n",
       "    <tr>\n",
       "      <th>2023-08-10</th>\n",
       "      <td>1125.79</td>\n",
       "      <td>1128.213140</td>\n",
       "      <td>1127.482926</td>\n",
       "    </tr>\n",
       "    <tr>\n",
       "      <th>2023-08-11</th>\n",
       "      <td>1122.01</td>\n",
       "      <td>1125.717424</td>\n",
       "      <td>1124.948432</td>\n",
       "    </tr>\n",
       "    <tr>\n",
       "      <th>2023-08-14</th>\n",
       "      <td>1125.99</td>\n",
       "      <td>1121.588890</td>\n",
       "      <td>1120.527672</td>\n",
       "    </tr>\n",
       "    <tr>\n",
       "      <th>2023-08-15</th>\n",
       "      <td>1121.69</td>\n",
       "      <td>1130.065876</td>\n",
       "      <td>1129.344967</td>\n",
       "    </tr>\n",
       "    <tr>\n",
       "      <th>2023-08-16</th>\n",
       "      <td>1117.81</td>\n",
       "      <td>1119.270421</td>\n",
       "      <td>1118.133062</td>\n",
       "    </tr>\n",
       "    <tr>\n",
       "      <th>2023-08-17</th>\n",
       "      <td>1112.36</td>\n",
       "      <td>1114.264370</td>\n",
       "      <td>1113.183340</td>\n",
       "    </tr>\n",
       "    <tr>\n",
       "      <th>2023-08-18</th>\n",
       "      <td>1107.76</td>\n",
       "      <td>1109.779078</td>\n",
       "      <td>1109.035335</td>\n",
       "    </tr>\n",
       "    <tr>\n",
       "      <th>2023-08-21</th>\n",
       "      <td>1107.25</td>\n",
       "      <td>1112.060833</td>\n",
       "      <td>1111.148470</td>\n",
       "    </tr>\n",
       "    <tr>\n",
       "      <th>2023-08-22</th>\n",
       "      <td>1112.44</td>\n",
       "      <td>1117.599148</td>\n",
       "      <td>1116.421722</td>\n",
       "    </tr>\n",
       "  </tbody>\n",
       "</table>\n",
       "</div>"
      ],
      "text/plain": [
       "             Actual      GBM_Div          CIR\n",
       "date                                         \n",
       "2023-08-09  1124.23  1136.852464  1136.166344\n",
       "2023-08-10  1125.79  1128.213140  1127.482926\n",
       "2023-08-11  1122.01  1125.717424  1124.948432\n",
       "2023-08-14  1125.99  1121.588890  1120.527672\n",
       "2023-08-15  1121.69  1130.065876  1129.344967\n",
       "2023-08-16  1117.81  1119.270421  1118.133062\n",
       "2023-08-17  1112.36  1114.264370  1113.183340\n",
       "2023-08-18  1107.76  1109.779078  1109.035335\n",
       "2023-08-21  1107.25  1112.060833  1111.148470\n",
       "2023-08-22  1112.44  1117.599148  1116.421722"
      ]
     },
     "execution_count": 59,
     "metadata": {},
     "output_type": "execute_result"
    }
   ],
   "source": [
    "simulation_reults = pd.DataFrame(index=simulation_dates)\n",
    "product_prices = product_prices[product_prices.index >= start_date]\n",
    "assert len(product_prices) == len(simulation_reults)\n",
    "\n",
    "# Gather data into a single dataframe\n",
    "simulation_reults['Actual'] = product_prices[\"value\"]\n",
    "simulation_reults['GBM_Div'] = GBM_Div_expected_values\n",
    "simulation_reults['HES'] = Hes_expected_values\n",
    "\n",
    "simulation_reults.head(10)"
   ]
  },
  {
   "cell_type": "code",
   "execution_count": 60,
   "metadata": {},
   "outputs": [],
   "source": [
    "# Save results\n",
    "simulation_reults.to_csv(os.path.join(SAVE_DIR, \"HES_Prices_1.csv\"))"
   ]
  },
  {
   "cell_type": "code",
   "execution_count": 61,
   "metadata": {},
   "outputs": [
    {
     "data": {
      "text/plain": [
       "Text(0, 0.5, 'Derivative Price in USD')"
      ]
     },
     "execution_count": 61,
     "metadata": {},
     "output_type": "execute_result"
    },
    {
     "data": {
      "image/png": "[encoded data removed]",
      "text/plain": [
       "<Figure size 1400x800 with 1 Axes>"
      ]
     },
     "metadata": {},
     "output_type": "display_data"
    }
   ],
   "source": [
    "plt.figure(figsize=(14,8))\n",
    "plt.title('Backtesting HES and GBM wth Dividends', fontdict={\"fontsize\":18})\n",
    "\n",
    "simulation_reults['Actual'].plot(legend=True)\n",
    "simulation_reults['HES'].plot(legend=True, style=\"--\")\n",
    "simulation_reults['GBM_Div'].plot(legend=True, style=\"--\")\n",
    "\n",
    "plt.xlabel('Market Days')\n",
    "plt.ylabel('Derivative Price in USD')"
   ]
  },
  {
   "cell_type": "markdown",
   "metadata": {},
   "source": [
    "#### 6.5.2 Hmm maybe the Error Decreased?"
   ]
  },
  {
   "cell_type": "code",
   "execution_count": 65,
   "metadata": {},
   "outputs": [
    {
     "name": "stdout",
     "output_type": "stream",
     "text": [
      "Mean Absolute Error for GBM_Div:\t5.407055586108778\n",
      "Mean Squared Error for GBM_Div:\t\t43.38799028539089\n",
      "\n",
      "Mean Absolute Error for CIR:\t\t5.1283271963728065\n",
      "Mean Squared Error for CIR:\t\t38.95355947390155\n",
      "\n"
     ]
    }
   ],
   "source": [
    "mean_abs_error=mean_absolute_error(simulation_reults['Actual'].to_list(),simulation_reults['GBM_Div'].to_list())\n",
    "mean_sq_error=mean_squared_error(simulation_reults['Actual'].to_list(),simulation_reults['GBM_Div'].to_list())\n",
    "print(f'Mean Absolute Error for GBM_Div:\\t{mean_abs_error}')\n",
    "print(f'Mean Squared Error for GBM_Div:\\t\\t{mean_sq_error}\\n')\n",
    "\n",
    "mean_abs_error=mean_absolute_error(simulation_reults['Actual'].to_list(),simulation_reults['HES'].to_list())\n",
    "mean_sq_error=mean_squared_error(simulation_reults['Actual'].to_list(),simulation_reults['HES'].to_list())\n",
    "print(f'Mean Absolute Error for HES:\\t\\t{mean_abs_error}')\n",
    "print(f'Mean Squared Error for HES:\\t\\t{mean_sq_error}\\n')"
   ]
  },
  {
   "cell_type": "markdown",
   "metadata": {},
   "source": [
    "That's about it for the Heston model. Feel free to explore the other notebooks in `/models` for more models.\n",
    "\n",
    "#### Thank you!"
   ]
  }
 ],
 "metadata": {
  "kernelspec": {
   "display_name": "mh4518",
   "language": "python",
   "name": "python3"
  },
  "language_info": {
   "codemirror_mode": {
    "name": "ipython",
    "version": 3
   },
   "file_extension": ".py",
   "mimetype": "text/x-python",
   "name": "python",
   "nbconvert_exporter": "python",
   "pygments_lexer": "ipython3",
   "version": "3.11.5"
  }
 },
 "nbformat": 4,
 "nbformat_minor": 2
}
